{
 "cells": [
  {
   "cell_type": "markdown",
   "metadata": {},
   "source": [
    "# data-scientist-exercise01"
   ]
  },
  {
   "cell_type": "markdown",
   "metadata": {},
   "source": [
    "Primary References:\n",
    "- https://www.datacamp.com/community/tutorials/decision-tree-classification-python\n",
    "- http://queirozf.com/entries/one-hot-encoding-a-feature-on-a-pandas-dataframe-an-example\n",
    "- https://www.geeksforgeeks.org/how-to-get-column-names-in-pandas-dataframe/\n",
    "- https://www.geeksforgeeks.org/confusion-matrix-machine-learning/ \n",
    "- StackOverflow\n",
    "- StackExchange\n",
    "- ect."
   ]
  },
  {
   "cell_type": "markdown",
   "metadata": {},
   "source": [
    "### 4. Import the \"flattened\" table (or CSV file) into your open source analytic environment of choice (R, Python, Java, etc.) and stage it for analysis."
   ]
  },
  {
   "cell_type": "code",
   "execution_count": 1,
   "metadata": {},
   "outputs": [
    {
     "name": "stderr",
     "output_type": "stream",
     "text": [
      "/srv/conda/envs/notebook/lib/python3.7/site-packages/sklearn/externals/six.py:31: DeprecationWarning: The module is deprecated in version 0.21 and will be removed in version 0.23 since we've dropped support for Python 2.7. Please rely on the official version of six (https://pypi.org/project/six/).\n",
      "  \"(https://pypi.org/project/six/).\", DeprecationWarning)\n"
     ]
    },
    {
     "name": "stdout",
     "output_type": "stream",
     "text": [
      "Requirement already satisfied: pydotplus in /srv/conda/envs/notebook/lib/python3.7/site-packages (2.0.2)\n",
      "Requirement already satisfied: pyparsing>=2.0.1 in /srv/conda/envs/notebook/lib/python3.7/site-packages (from pydotplus) (2.4.0)\n",
      "Requirement already satisfied: graphviz in /srv/conda/envs/notebook/lib/python3.7/site-packages (0.13.2)\n"
     ]
    }
   ],
   "source": [
    "import csv\n",
    "import numpy as np\n",
    "import pandas as pd\n",
    "import seaborn as sns\n",
    "from sklearn.feature_selection import SelectKBest\n",
    "from sklearn.feature_selection import chi2\n",
    "import matplotlib.pyplot as plt\n",
    "from sklearn.feature_selection import SelectFromModel\n",
    "from sklearn.tree import DecisionTreeClassifier # Import Decision Tree Classifier\n",
    "from sklearn.model_selection import train_test_split # Import train_test_split function\n",
    "from sklearn.ensemble import RandomForestRegressor\n",
    "from sklearn.ensemble import RandomForestClassifier\n",
    "from sklearn import metrics\n",
    "from sklearn.metrics import confusion_matrix \n",
    "from sklearn.metrics import accuracy_score \n",
    "from sklearn.metrics import classification_report \n",
    "from sklearn.tree import export_graphviz\n",
    "from sklearn.externals.six import StringIO  \n",
    "from IPython.display import Image  \n",
    "import sys\n",
    "!{sys.executable} -m pip install pydotplus\n",
    "import sys\n",
    "!{sys.executable} -m pip install graphviz\n",
    "from sklearn.naive_bayes import GaussianNB\n",
    "import warnings\n",
    "warnings.filterwarnings('ignore') "
   ]
  },
  {
   "cell_type": "code",
   "execution_count": 2,
   "metadata": {},
   "outputs": [
    {
     "data": {
      "text/plain": [
       "Index(['id', 'age', 'workClass', 'eduLevel', 'eduNum', 'maritalStatus',\n",
       "       'occupation', 'relationship', 'race', 'sex', 'capitalGain',\n",
       "       'capitalLoss', 'hoursPerWeek', 'country', 'over50K'],\n",
       "      dtype='object')"
      ]
     },
     "execution_count": 2,
     "metadata": {},
     "output_type": "execute_result"
    }
   ],
   "source": [
    "mydata= \"flattenedRecords.csv\"\n",
    "df = pd.read_csv(mydata) \n",
    "df.head()\n",
    "df.columns\n",
    "#df.isnull().sum()"
   ]
  },
  {
   "cell_type": "markdown",
   "metadata": {},
   "source": [
    "### 6. Split the data into training, validation, and test data sets."
   ]
  },
  {
   "cell_type": "code",
   "execution_count": 3,
   "metadata": {},
   "outputs": [
    {
     "data": {
      "text/plain": [
       "0    76.071823\n",
       "1    23.928177\n",
       "Name: over50K, dtype: float64"
      ]
     },
     "execution_count": 3,
     "metadata": {},
     "output_type": "execute_result"
    }
   ],
   "source": [
    "#what is the current # of 0 and 1 in column\n",
    "(df['over50K'].value_counts()/df['over50K'].count())*100"
   ]
  },
  {
   "cell_type": "code",
   "execution_count": 4,
   "metadata": {},
   "outputs": [
    {
     "name": "stdout",
     "output_type": "stream",
     "text": [
      "id\n",
      "age\n",
      "eduNum\n",
      "capitalGain\n",
      "capitalLoss\n",
      "hoursPerWeek\n",
      "over50K\n",
      "workClass_Federal-gov\n",
      "workClass_Local-gov\n",
      "workClass_Never-worked\n",
      "workClass_Private\n",
      "workClass_Self-emp-inc\n",
      "workClass_Self-emp-not-inc\n",
      "workClass_State-gov\n",
      "workClass_Without-pay\n",
      "eduLevel_10th\n",
      "eduLevel_11th\n",
      "eduLevel_12th\n",
      "eduLevel_1st-4th\n",
      "eduLevel_5th-6th\n",
      "eduLevel_7th-8th\n",
      "eduLevel_9th\n",
      "eduLevel_Assoc-acdm\n",
      "eduLevel_Assoc-voc\n",
      "eduLevel_Bachelors\n",
      "eduLevel_Doctorate\n",
      "eduLevel_HS-grad\n",
      "eduLevel_Masters\n",
      "eduLevel_Preschool\n",
      "eduLevel_Prof-school\n",
      "eduLevel_Some-college\n",
      "maritalStatus_Divorced\n",
      "maritalStatus_Married-AF-spouse\n",
      "maritalStatus_Married-civ-spouse\n",
      "maritalStatus_Married-spouse-absent\n",
      "maritalStatus_Never-married\n",
      "maritalStatus_Separated\n",
      "maritalStatus_Widowed\n",
      "occupation_Adm-clerical\n",
      "occupation_Armed-Forces\n",
      "occupation_Craft-repair\n",
      "occupation_Exec-managerial\n",
      "occupation_Farming-fishing\n",
      "occupation_Handlers-cleaners\n",
      "occupation_Machine-op-inspct\n",
      "occupation_Other-service\n",
      "occupation_Priv-house-serv\n",
      "occupation_Prof-specialty\n",
      "occupation_Protective-serv\n",
      "occupation_Sales\n",
      "occupation_Tech-support\n",
      "occupation_Transport-moving\n",
      "relationship_Husband\n",
      "relationship_Not-in-family\n",
      "relationship_Other-relative\n",
      "relationship_Own-child\n",
      "relationship_Unmarried\n",
      "relationship_Wife\n",
      "race_Amer-Indian-Eskimo\n",
      "race_Asian-Pac-Islander\n",
      "race_Black\n",
      "race_Other\n",
      "race_White\n",
      "sex_Female\n",
      "sex_Male\n",
      "country_Cambodia\n",
      "country_Canada\n",
      "country_China\n",
      "country_Columbia\n",
      "country_Cuba\n",
      "country_Dominican-Republic\n",
      "country_Ecuador\n",
      "country_El-Salvador\n",
      "country_England\n",
      "country_France\n",
      "country_Germany\n",
      "country_Greece\n",
      "country_Guatemala\n",
      "country_Haiti\n",
      "country_Holand-Netherlands\n",
      "country_Honduras\n",
      "country_Hong\n",
      "country_Hungary\n",
      "country_India\n",
      "country_Iran\n",
      "country_Ireland\n",
      "country_Italy\n",
      "country_Jamaica\n",
      "country_Japan\n",
      "country_Laos\n",
      "country_Mexico\n",
      "country_Nicaragua\n",
      "country_Outlying-US(Guam-USVI-etc)\n",
      "country_Peru\n",
      "country_Philippines\n",
      "country_Poland\n",
      "country_Portugal\n",
      "country_Puerto-Rico\n",
      "country_Scotland\n",
      "country_South\n",
      "country_Taiwan\n",
      "country_Thailand\n",
      "country_Trinadad&Tobago\n",
      "country_United-States\n",
      "country_Vietnam\n",
      "country_Yugoslavia\n"
     ]
    }
   ],
   "source": [
    "# converting all '?' to NaN\n",
    "df = df.mask(df=='?', float('NaN'))\n",
    "\n",
    "#SKLearn only takes # so I have to change all of the Strings to #\n",
    "# use pd.concat to join the new columns with your original dataframe\n",
    "df = pd.concat([df,pd.get_dummies(df['workClass'], prefix='workClass')],axis=1)\n",
    "df = pd.concat([df,pd.get_dummies(df['eduLevel'], prefix='eduLevel')],axis=1)\n",
    "df = pd.concat([df,pd.get_dummies(df['maritalStatus'], prefix='maritalStatus')],axis=1)\n",
    "df = pd.concat([df,pd.get_dummies(df['occupation'], prefix='occupation')],axis=1)\n",
    "df = pd.concat([df,pd.get_dummies(df['relationship'], prefix='relationship')],axis=1)\n",
    "df = pd.concat([df,pd.get_dummies(df['race'], prefix='race')],axis=1)\n",
    "df = pd.concat([df,pd.get_dummies(df['sex'], prefix='sex')],axis=1)\n",
    "df = pd.concat([df,pd.get_dummies(df['country'], prefix='country')],axis=1)\n",
    "                     \n",
    "# get rid of the original column\n",
    "df.drop(['workClass'],axis=1, inplace=True)\n",
    "df.drop(['eduLevel'],axis=1, inplace=True)\n",
    "df.drop(['maritalStatus'],axis=1, inplace=True)\n",
    "df.drop(['occupation'],axis=1, inplace=True)\n",
    "df.drop(['relationship'],axis=1, inplace=True)\n",
    "df.drop(['race'],axis=1, inplace=True)\n",
    "df.drop(['sex'],axis=1, inplace=True)\n",
    "df.drop(['country'],axis=1, inplace=True)\n",
    "\n",
    "#show all column names\n",
    "for col in df.columns: \n",
    "    print(col) "
   ]
  },
  {
   "cell_type": "code",
   "execution_count": 5,
   "metadata": {},
   "outputs": [
    {
     "name": "stdout",
     "output_type": "stream",
     "text": [
      "X_train Shape of XTrain: (31258, 105)\n",
      "y_train Shape of YTrain: (31258, 1)\n",
      "X_test Shape of XTest: (9769, 105)\n",
      "y_test Shape of YTest: (9769, 1)\n",
      "Shape of XValidation: (7815, 105)\n",
      "Shape of YValidation: (7815, 1)\n"
     ]
    }
   ],
   "source": [
    "#split dataset in target and other\n",
    "target = ['over50K']\n",
    "\n",
    "other = ['id', 'age', 'eduNum', 'capitalGain', 'capitalLoss', 'hoursPerWeek',\n",
    "         'workClass_Federal-gov', 'workClass_Local-gov',\n",
    "       'workClass_Never-worked', 'workClass_Private', 'workClass_Self-emp-inc',\n",
    "       'workClass_Self-emp-not-inc', 'workClass_State-gov',\n",
    "       'workClass_Without-pay', 'eduLevel_10th', 'eduLevel_11th',\n",
    "       'eduLevel_12th', 'eduLevel_1st-4th', 'eduLevel_5th-6th',\n",
    "       'eduLevel_7th-8th', 'eduLevel_9th', 'eduLevel_Assoc-acdm',\n",
    "       'eduLevel_Assoc-voc', 'eduLevel_Bachelors', 'eduLevel_Doctorate',\n",
    "       'eduLevel_HS-grad', 'eduLevel_Masters', 'eduLevel_Preschool',\n",
    "       'eduLevel_Prof-school', 'eduLevel_Some-college',\n",
    "       'maritalStatus_Divorced', 'maritalStatus_Married-AF-spouse',\n",
    "       'maritalStatus_Married-civ-spouse',\n",
    "       'maritalStatus_Married-spouse-absent', 'maritalStatus_Never-married',\n",
    "       'maritalStatus_Separated', 'maritalStatus_Widowed',\n",
    "       'occupation_Adm-clerical', 'occupation_Armed-Forces',\n",
    "       'occupation_Craft-repair', 'occupation_Exec-managerial',\n",
    "       'occupation_Farming-fishing', 'occupation_Handlers-cleaners',\n",
    "       'occupation_Machine-op-inspct', 'occupation_Other-service',\n",
    "       'occupation_Priv-house-serv', 'occupation_Prof-specialty',\n",
    "       'occupation_Protective-serv', 'occupation_Sales',\n",
    "       'occupation_Tech-support', 'occupation_Transport-moving',\n",
    "       'relationship_Husband', 'relationship_Not-in-family',\n",
    "       'relationship_Other-relative', 'relationship_Own-child',\n",
    "       'relationship_Unmarried', 'relationship_Wife',\n",
    "       'race_Amer-Indian-Eskimo', 'race_Asian-Pac-Islander', 'race_Black',\n",
    "       'race_Other', 'race_White', 'sex_Female', 'sex_Male','country_Cambodia', 'country_Canada','country_China',\n",
    "         'country_Columbia','country_Cuba','country_Dominican-Republic','country_Ecuador','country_El-Salvador',\n",
    "         'country_England','country_France','country_Germany','country_Greece','country_Guatemala','country_Haiti',\n",
    "         'country_Holand-Netherlands','country_Honduras','country_Hong','country_Hungary','country_India','country_Iran',\n",
    "         'country_Ireland','country_Italy','country_Jamaica','country_Japan','country_Laos','country_Mexico','country_Nicaragua',\n",
    "         'country_Outlying-US(Guam-USVI-etc)','country_Peru','country_Philippines','country_Poland','country_Portugal','country_Puerto-Rico', 'country_Scotland',\n",
    "       'country_South', 'country_Taiwan', 'country_Thailand',\n",
    "       'country_Trinadad&Tobago', 'country_United-States', 'country_Vietnam',\n",
    "       'country_Yugoslavia']\n",
    "\n",
    "X = df[other]\n",
    "y = df[target] \n",
    "\n",
    "X_train, X_test, y_train, y_test = train_test_split(X, y, test_size = 0.2, random_state=1) # 50% training and 20% test\n",
    "X_train, X_validation, y_train, y_validation = train_test_split(X_train, y_train, test_size = 0.2, random_state=2)# 50% training and 20% Validation\n",
    "\n",
    "#CHECK We expect the training features number of columns to match the testing feature number of columns and the number of rows to match for the respective training and testing features and the labels\n",
    "print('X_train Shape of XTrain:', X_train.shape)\n",
    "print('y_train Shape of YTrain:', y_train.shape)\n",
    "print('X_test Shape of XTest:', X_test.shape)\n",
    "print('y_test Shape of YTest:', y_test.shape)\n",
    "print('Shape of XValidation:', X_validation.shape)\n",
    "print('Shape of YValidation:', y_validation.shape)"
   ]
  },
  {
   "cell_type": "markdown",
   "metadata": {},
   "source": [
    "### 7. Develop a model that predicts whether individuals, based on the census variables provided, make over $50,000/year. Use over_50k as the target variable."
   ]
  },
  {
   "cell_type": "code",
   "execution_count": 6,
   "metadata": {},
   "outputs": [
    {
     "name": "stdout",
     "output_type": "stream",
     "text": [
      "Confusion Matrix :\n",
      "[[6466  964]\n",
      " [ 876 1463]] \n",
      "\n",
      "Accuracy: 0.8116490940730884 \n",
      "\n",
      "Report : \n",
      "              precision    recall  f1-score   support\n",
      "\n",
      "           0       0.88      0.87      0.88      7430\n",
      "           1       0.60      0.63      0.61      2339\n",
      "\n",
      "    accuracy                           0.81      9769\n",
      "   macro avg       0.74      0.75      0.74      9769\n",
      "weighted avg       0.81      0.81      0.81      9769\n",
      "\n"
     ]
    }
   ],
   "source": [
    "# Decision Tree classifer object\n",
    "clf = DecisionTreeClassifier()\n",
    "\n",
    "# Train Decision Tree Classifer\n",
    "clf = clf.fit(X_train,y_train)\n",
    "\n",
    "#Predict the response for test dataset\n",
    "y_pred = clf.predict(X_test)\n",
    "\n",
    "#ValueError: could not convert string to float: '?' \n",
    "    #for this reason I will now convert\n",
    "    \n",
    "results = confusion_matrix(y_test, y_pred) \n",
    "print('Confusion Matrix :')\n",
    "print(results,\"\\n\") \n",
    "print(\"Accuracy:\", metrics.accuracy_score(y_test, y_pred),\"\\n\")\n",
    "print('Report : ')\n",
    "print(classification_report(y_test, y_pred))"
   ]
  },
  {
   "cell_type": "code",
   "execution_count": 7,
   "metadata": {},
   "outputs": [
    {
     "name": "stdout",
     "output_type": "stream",
     "text": [
      "Confusion Matrix :\n",
      "[[7024  406]\n",
      " [ 995 1344]] \n",
      "\n",
      "Accuracy: 0.8565871634763026 \n",
      "\n",
      "Report : \n",
      "              precision    recall  f1-score   support\n",
      "\n",
      "           0       0.88      0.95      0.91      7430\n",
      "           1       0.77      0.57      0.66      2339\n",
      "\n",
      "    accuracy                           0.86      9769\n",
      "   macro avg       0.82      0.76      0.78      9769\n",
      "weighted avg       0.85      0.86      0.85      9769\n",
      "\n"
     ]
    }
   ],
   "source": [
    "# BETTER Decision Tree classifer object\n",
    "clf = DecisionTreeClassifier(criterion=\"entropy\", max_depth=12)\n",
    "\n",
    "# Train Decision Tree Classifer\n",
    "clf = clf.fit(X_train,y_train)\n",
    "\n",
    "#Predict the response for test dataset\n",
    "y_pred = clf.predict(X_test)\n",
    "\n",
    "results = confusion_matrix(y_test, y_pred) \n",
    "print('Confusion Matrix :')\n",
    "print(results,\"\\n\") \n",
    "print(\"Accuracy:\", metrics.accuracy_score(y_test, y_pred),\"\\n\")\n",
    "print('Report : ')\n",
    "print(classification_report(y_test, y_pred))"
   ]
  },
  {
   "cell_type": "code",
   "execution_count": 8,
   "metadata": {},
   "outputs": [],
   "source": [
    "#print(dict(zip(X_test.columns, clf.feature_importances_)))"
   ]
  },
  {
   "cell_type": "code",
   "execution_count": 11,
   "metadata": {},
   "outputs": [
    {
     "name": "stdout",
     "output_type": "stream",
     "text": [
      "id = 0.028870778255022024\n",
      "age = 0.08263388942732931\n",
      "eduNum = 0.1476453860565045\n",
      "capitalGain = 0.2000110227092714\n",
      "capitalLoss = 0.059930586272365444\n",
      "hoursPerWeek = 0.04509792052600999\n",
      "workClass_Federal-gov = 0.0014022310833165395\n",
      "workClass_Local-gov = 0.0020110606098795625\n",
      "workClass_Never-worked = 0.0\n",
      "workClass_Private = 0.0024478018557916744\n",
      "workClass_Self-emp-inc = 0.0009646476723357138\n",
      "workClass_Self-emp-not-inc = 0.00646351917161759\n",
      "workClass_State-gov = 0.00051452617847699\n",
      "workClass_Without-pay = 0.0\n",
      "eduLevel_10th = 0.0\n",
      "eduLevel_11th = 0.00035370089516066546\n",
      "eduLevel_12th = 0.00041176956090090757\n",
      "eduLevel_1st-4th = 0.0\n",
      "eduLevel_5th-6th = 0.000253585389740847\n",
      "eduLevel_7th-8th = 0.0\n",
      "eduLevel_9th = 0.0\n",
      "eduLevel_Assoc-acdm = 0.0\n",
      "eduLevel_Assoc-voc = 0.0002746682210138181\n",
      "eduLevel_Bachelors = 0.0004192550779897273\n",
      "eduLevel_Doctorate = 0.0003308914107703072\n",
      "eduLevel_HS-grad = 0.004029841187485905\n",
      "eduLevel_Masters = 0.0005151139644864104\n",
      "eduLevel_Preschool = 0.0\n",
      "eduLevel_Prof-school = 0.0007968224512339556\n",
      "eduLevel_Some-college = 0.0013869202077589431\n",
      "maritalStatus_Divorced = 0.00015218591599855814\n",
      "maritalStatus_Married-AF-spouse = 0.0009220446975253458\n",
      "maritalStatus_Married-civ-spouse = 0.36182640963080537\n",
      "maritalStatus_Married-spouse-absent = 0.0\n",
      "maritalStatus_Never-married = 0.0015091719027610518\n",
      "maritalStatus_Separated = 0.0003340754429804145\n",
      "maritalStatus_Widowed = 0.00034533414569192574\n",
      "occupation_Adm-clerical = 0.0017136404930474794\n",
      "occupation_Armed-Forces = 0.0\n",
      "occupation_Craft-repair = 0.0007099735000367468\n",
      "occupation_Exec-managerial = 0.012548251577534586\n",
      "occupation_Farming-fishing = 0.0024659848525623953\n",
      "occupation_Handlers-cleaners = 0.0\n",
      "occupation_Machine-op-inspct = 0.0010285079302093773\n",
      "occupation_Other-service = 0.0022717986377306927\n",
      "occupation_Priv-house-serv = 0.0\n",
      "occupation_Prof-specialty = 0.0033981685931543685\n",
      "occupation_Protective-serv = 0.0005558866421363568\n",
      "occupation_Sales = 0.0018969679182743169\n",
      "occupation_Tech-support = 0.001150725639110172\n",
      "occupation_Transport-moving = 0.0017085866294558115\n",
      "relationship_Husband = 0.00045182349426098236\n",
      "relationship_Not-in-family = 0.00046799396102936865\n",
      "relationship_Other-relative = 0.0\n",
      "relationship_Own-child = 0.0011239904197132263\n",
      "relationship_Unmarried = 0.0\n",
      "relationship_Wife = 0.0021903064323447875\n",
      "race_Amer-Indian-Eskimo = 0.0\n",
      "race_Asian-Pac-Islander = 0.0013624161543966582\n",
      "race_Black = 0.0010928804015435077\n",
      "race_Other = 0.0\n",
      "race_White = 0.001924681053262319\n",
      "sex_Female = 0.004264215622886859\n",
      "sex_Male = 0.001033370736441252\n",
      "country_Cambodia = 0.0\n",
      "country_Canada = 0.0001958630517270013\n",
      "country_China = 0.00024693020900081077\n",
      "country_Columbia = 0.0\n",
      "country_Cuba = 0.0\n",
      "country_Dominican-Republic = 0.0\n",
      "country_Ecuador = 0.0\n",
      "country_El-Salvador = 0.0\n",
      "country_England = 0.0003170057646243571\n",
      "country_France = 0.0\n",
      "country_Germany = 0.0\n",
      "country_Greece = 0.0\n",
      "country_Guatemala = 0.0\n",
      "country_Haiti = 0.000364807944549052\n",
      "country_Holand-Netherlands = 0.0\n",
      "country_Honduras = 0.0\n",
      "country_Hong = 0.0\n",
      "country_Hungary = 0.0\n",
      "country_India = 0.0\n",
      "country_Iran = 0.0\n",
      "country_Ireland = 0.00037104290963705527\n",
      "country_Italy = 0.00025568302424161505\n",
      "country_Jamaica = 0.0\n",
      "country_Japan = 0.0\n",
      "country_Laos = 0.00035893185652976465\n",
      "country_Mexico = 0.0\n",
      "country_Nicaragua = 0.0\n",
      "country_Outlying-US(Guam-USVI-etc) = 0.0\n",
      "country_Peru = 0.0\n",
      "country_Philippines = 0.0003111303836045374\n",
      "country_Poland = 0.0\n",
      "country_Portugal = 0.0\n",
      "country_Puerto-Rico = 0.0\n",
      "country_Scotland = 0.0\n",
      "country_South = 0.0\n",
      "country_Taiwan = 0.0\n",
      "country_Thailand = 0.0\n",
      "country_Trinadad&Tobago = 0.0\n",
      "country_United-States = 0.002363274246729516\n",
      "country_Vietnam = 0.0\n",
      "country_Yugoslavia = 0.0\n"
     ]
    },
    {
     "data": {
      "image/png": "[encoded data removed]",
      "text/plain": [
       "<Figure size 432x288 with 1 Axes>"
      ]
     },
     "metadata": {
      "needs_background": "light"
     },
     "output_type": "display_data"
    }
   ],
   "source": [
    "for name, importance in zip(df[other], clf.feature_importances_):\n",
    "    print(name, \"=\", importance)\n",
    "\n",
    "importances = clf.feature_importances_\n",
    "indices = np.argsort(importances)\n",
    "plt.title('Feature Importances')\n",
    "plt.barh(range(len(indices)), importances[indices], color='b', align='center')\n",
    "plt.yticks(range(len(indices)), [other[i] for i in indices])\n",
    "plt.xlabel('Relative Importance')\n",
    "plt.show()"
   ]
  },
  {
   "cell_type": "code",
   "execution_count": 12,
   "metadata": {},
   "outputs": [
    {
     "name": "stdout",
     "output_type": "stream",
     "text": [
      "Confusion Matrix :\n",
      "[[6892  538]\n",
      " [ 888 1451]] \n",
      "\n",
      "Accuracy: 0.8540280479066434 \n",
      "\n",
      "Report : \n",
      "              precision    recall  f1-score   support\n",
      "\n",
      "           0       0.89      0.93      0.91      7430\n",
      "           1       0.73      0.62      0.67      2339\n",
      "\n",
      "    accuracy                           0.85      9769\n",
      "   macro avg       0.81      0.77      0.79      9769\n",
      "weighted avg       0.85      0.85      0.85      9769\n",
      "\n"
     ]
    }
   ],
   "source": [
    "# Random Forest Classifier\n",
    "clf = RandomForestClassifier(n_estimators=100)\n",
    "\n",
    "#Train the model using the training sets y_pred=clf.predict(X_test)\n",
    "clf.fit(X_train,y_train)\n",
    "y_pred = clf.predict(X_test)\n",
    "\n",
    "results = confusion_matrix(y_test, y_pred) \n",
    "print('Confusion Matrix :')\n",
    "print(results,\"\\n\") \n",
    "print(\"Accuracy:\", metrics.accuracy_score(y_test, y_pred),\"\\n\")\n",
    "print('Report : ')\n",
    "print(classification_report(y_test, y_pred))"
   ]
  },
  {
   "cell_type": "code",
   "execution_count": 13,
   "metadata": {},
   "outputs": [
    {
     "name": "stdout",
     "output_type": "stream",
     "text": [
      "id = 0.16519100906739012\n",
      "age = 0.1520373327319831\n",
      "eduNum = 0.05320766714549827\n",
      "capitalGain = 0.10016477979629138\n",
      "capitalLoss = 0.030545447664001458\n",
      "hoursPerWeek = 0.08553019084348049\n",
      "workClass_Federal-gov = 0.0050838842674249445\n",
      "workClass_Local-gov = 0.005735248486566523\n",
      "workClass_Never-worked = 6.687706220532715e-10\n",
      "workClass_Private = 0.011035006814953124\n",
      "workClass_Self-emp-inc = 0.005800078503680758\n",
      "workClass_Self-emp-not-inc = 0.008266149821026521\n",
      "workClass_State-gov = 0.004705363733150006\n",
      "workClass_Without-pay = 9.217136211626595e-05\n",
      "eduLevel_10th = 0.0014625480588967908\n",
      "eduLevel_11th = 0.0017939180000729556\n",
      "eduLevel_12th = 0.0007902090898528333\n",
      "eduLevel_1st-4th = 0.0002542004352685087\n",
      "eduLevel_5th-6th = 0.0006723706493931691\n",
      "eduLevel_7th-8th = 0.0019369535585981755\n",
      "eduLevel_9th = 0.0013580475135415548\n",
      "eduLevel_Assoc-acdm = 0.002430365983950544\n",
      "eduLevel_Assoc-voc = 0.003037206754884599\n",
      "eduLevel_Bachelors = 0.0125811520277444\n",
      "eduLevel_Doctorate = 0.003128763079139819\n",
      "eduLevel_HS-grad = 0.007666076511348383\n",
      "eduLevel_Masters = 0.006968046849782366\n",
      "eduLevel_Preschool = 3.7521158985494226e-05\n",
      "eduLevel_Prof-school = 0.005398235621275789\n",
      "eduLevel_Some-college = 0.005211128566952108\n",
      "maritalStatus_Divorced = 0.006636261947072087\n",
      "maritalStatus_Married-AF-spouse = 0.00026491312239376524\n",
      "maritalStatus_Married-civ-spouse = 0.07108981686577114\n",
      "maritalStatus_Married-spouse-absent = 0.0009193156288844138\n",
      "maritalStatus_Never-married = 0.01926484251015573\n",
      "maritalStatus_Separated = 0.0016205545547651836\n",
      "maritalStatus_Widowed = 0.0018294134379922401\n",
      "occupation_Adm-clerical = 0.005404562581293282\n",
      "occupation_Armed-Forces = 0.00011008206682730683\n",
      "occupation_Craft-repair = 0.006156170058822846\n",
      "occupation_Exec-managerial = 0.018390323478146637\n",
      "occupation_Farming-fishing = 0.004110776819185722\n",
      "occupation_Handlers-cleaners = 0.003083262342657129\n",
      "occupation_Machine-op-inspct = 0.0041971147290001285\n",
      "occupation_Other-service = 0.005756059074304261\n",
      "occupation_Priv-house-serv = 0.00014546307854244452\n",
      "occupation_Prof-specialty = 0.016592909073970145\n",
      "occupation_Protective-serv = 0.003086149421439213\n",
      "occupation_Sales = 0.006611758680424707\n",
      "occupation_Tech-support = 0.004711649531344502\n",
      "occupation_Transport-moving = 0.004278412045689246\n",
      "relationship_Husband = 0.048700683452927246\n",
      "relationship_Not-in-family = 0.007342218157215603\n",
      "relationship_Other-relative = 0.0012620118603317869\n",
      "relationship_Own-child = 0.007458297364671349\n",
      "relationship_Unmarried = 0.004336575333199588\n",
      "relationship_Wife = 0.009790088827136806\n",
      "race_Amer-Indian-Eskimo = 0.001340023951987796\n",
      "race_Asian-Pac-Islander = 0.0028052981868176216\n",
      "race_Black = 0.004679484257723803\n",
      "race_Other = 0.0007709612221104144\n",
      "race_White = 0.00614860788561226\n",
      "sex_Female = 0.006041632819999386\n",
      "sex_Male = 0.010113002171697043\n",
      "country_Cambodia = 0.00037726542373503946\n",
      "country_Canada = 0.0012379951154003917\n",
      "country_China = 0.0005643277881999593\n",
      "country_Columbia = 0.0003441108025803352\n",
      "country_Cuba = 0.0005349784924912057\n",
      "country_Dominican-Republic = 0.0001566269044895259\n",
      "country_Ecuador = 0.00013115229536541325\n",
      "country_El-Salvador = 0.00020920436364074018\n",
      "country_England = 0.0009275093186190211\n",
      "country_France = 0.0002176307971632107\n",
      "country_Germany = 0.000692320832007618\n",
      "country_Greece = 0.00042484062394590965\n",
      "country_Guatemala = 4.1878499311884775e-05\n",
      "country_Haiti = 0.00019521077992016087\n",
      "country_Holand-Netherlands = 0.0\n",
      "country_Honduras = 6.193980545915851e-06\n",
      "country_Hong = 0.00016111827211508993\n",
      "country_Hungary = 0.0001886402163392785\n",
      "country_India = 0.0008424395263802504\n",
      "country_Iran = 0.0004364163323375044\n",
      "country_Ireland = 0.00032913769024212395\n",
      "country_Italy = 0.0008746318718011637\n",
      "country_Jamaica = 0.0003075009888626903\n",
      "country_Japan = 0.0005892114083261809\n",
      "country_Laos = 7.97234072365206e-05\n",
      "country_Mexico = 0.0019352013891855244\n",
      "country_Nicaragua = 0.00019616866752079483\n",
      "country_Outlying-US(Guam-USVI-etc) = 2.506280982599117e-05\n",
      "country_Peru = 0.00021966479559689457\n",
      "country_Philippines = 0.0009208212034338427\n",
      "country_Poland = 0.0004700572096470854\n",
      "country_Portugal = 0.0003512116127747584\n",
      "country_Puerto-Rico = 0.000530175652699546\n",
      "country_Scotland = 8.066853752817446e-05\n",
      "country_South = 0.0005077817783591813\n",
      "country_Taiwan = 0.00019315195677583794\n",
      "country_Thailand = 3.275238856513355e-05\n",
      "country_Trinadad&Tobago = 5.621649169186143e-05\n",
      "country_United-States = 0.0069141686798362845\n",
      "country_Vietnam = 0.0003100565165562571\n",
      "country_Yugoslavia = 0.00021700327281161746\n"
     ]
    },
    {
     "data": {
      "image/png": "[encoded data removed]",
      "text/plain": [
       "<Figure size 432x288 with 1 Axes>"
      ]
     },
     "metadata": {
      "needs_background": "light"
     },
     "output_type": "display_data"
    }
   ],
   "source": [
    "for name, importance in zip(df[other], clf.feature_importances_):\n",
    "    print(name, \"=\", importance)\n",
    "\n",
    "importances = clf.feature_importances_\n",
    "indices = np.argsort(importances)\n",
    "plt.title('Feature Importances')\n",
    "plt.barh(range(len(indices)), importances[indices], color='b', align='center')\n",
    "plt.yticks(range(len(indices)), [other[i] for i in indices])\n",
    "plt.xlabel('Relative Importance')\n",
    "plt.show()"
   ]
  },
  {
   "cell_type": "code",
   "execution_count": 14,
   "metadata": {},
   "outputs": [
    {
     "name": "stdout",
     "output_type": "stream",
     "text": [
      "                               Specs         Score\n",
      "3                        capitalGain  7.872878e+07\n",
      "4                        capitalLoss  1.172107e+06\n",
      "0                                 id  9.776095e+03\n",
      "1                                age  7.682975e+03\n",
      "5                       hoursPerWeek  6.253200e+03\n",
      "32  maritalStatus_Married-civ-spouse  3.370525e+03\n",
      "51              relationship_Husband  3.085344e+03\n",
      "2                             eduNum  2.178715e+03\n",
      "34       maritalStatus_Never-married  2.106158e+03\n",
      "54            relationship_Own-child  1.338031e+03\n"
     ]
    }
   ],
   "source": [
    "#apply SelectKBest class to extract top 10 best features\n",
    "bestfeatures = SelectKBest(score_func=chi2, k=10)\n",
    "fit = bestfeatures.fit(X_train,y_train)\n",
    "dfscores = pd.DataFrame(fit.scores_)\n",
    "dfcolumns = pd.DataFrame(X.columns)\n",
    "#concat two dataframes for better visualization \n",
    "featureScores = pd.concat([dfcolumns,dfscores],axis=1)\n",
    "featureScores.columns = ['Specs','Score']  #naming the dataframe columns\n",
    "print(featureScores.nlargest(10,'Score'))  #print 10 best features"
   ]
  },
  {
   "cell_type": "code",
   "execution_count": 15,
   "metadata": {},
   "outputs": [
    {
     "name": "stdout",
     "output_type": "stream",
     "text": [
      "[1.65261084e-01 1.51337883e-01 2.62393490e-02 6.50964896e-02\n",
      " 2.30892346e-02 9.73624944e-02 5.72057090e-03 6.08379991e-03\n",
      " 0.00000000e+00 1.04690571e-02 7.58209773e-03 8.49568118e-03\n",
      " 5.03221465e-03 1.78445284e-04 2.47197220e-03 2.79024820e-03\n",
      " 9.46306054e-04 2.44022730e-04 7.80943465e-04 2.30494487e-03\n",
      " 2.42215017e-03 2.96327730e-03 3.40458384e-03 1.76415125e-02\n",
      " 6.88855431e-03 7.92198313e-03 1.30349881e-02 1.14460684e-04\n",
      " 1.03930321e-02 6.60656347e-03 5.66537080e-03 2.82529917e-04\n",
      " 5.27496107e-02 1.08577597e-03 4.28429208e-02 1.54434818e-03\n",
      " 1.55202323e-03 5.15244309e-03 1.23804225e-04 5.45881753e-03\n",
      " 2.79361759e-02 3.75172952e-03 3.33855838e-03 5.24396859e-03\n",
      " 7.93885732e-03 1.06829886e-04 1.96430090e-02 3.21567710e-03\n",
      " 6.38369103e-03 4.56785237e-03 3.56669312e-03 1.86556816e-02\n",
      " 1.31436678e-02 2.18720469e-03 1.65314823e-02 5.05938632e-03\n",
      " 8.17403603e-03 1.68617639e-03 3.14957389e-03 5.24590757e-03\n",
      " 1.19479087e-03 6.27621847e-03 2.26514560e-02 1.37704231e-02\n",
      " 3.58879140e-04 1.52424174e-03 6.45878785e-04 4.59665365e-04\n",
      " 7.09398231e-04 3.41505485e-04 1.19624862e-04 2.30207454e-04\n",
      " 1.10570454e-03 3.01006498e-04 9.33512148e-04 5.60489368e-04\n",
      " 9.40412073e-05 2.26606675e-04 2.68669114e-06 9.50567469e-06\n",
      " 1.70158884e-04 3.05152690e-04 8.53793557e-04 4.89643368e-04\n",
      " 4.17227022e-04 9.67057894e-04 3.48278030e-04 8.86607258e-04\n",
      " 1.38198084e-04 1.92501385e-03 1.83724854e-04 2.17506246e-05\n",
      " 2.94140332e-04 1.05274750e-03 5.41400896e-04 2.81475185e-04\n",
      " 7.09533611e-04 1.89807462e-04 6.57232339e-04 2.21964281e-04\n",
      " 5.04480105e-05 4.69834519e-05 8.25300104e-03 3.98767272e-04\n",
      " 2.18302738e-04]\n"
     ]
    },
    {
     "data": {
      "image/png": "[encoded data removed]",
      "text/plain": [
       "<Figure size 432x288 with 1 Axes>"
      ]
     },
     "metadata": {
      "needs_background": "light"
     },
     "output_type": "display_data"
    }
   ],
   "source": [
    "from sklearn.ensemble import ExtraTreesClassifier\n",
    "import matplotlib.pyplot as plt\n",
    "model = ExtraTreesClassifier()\n",
    "model.fit(X_train,y_train)\n",
    "print(model.feature_importances_) #use inbuilt class feature_importances of tree based classifiers\n",
    "#plot graph of feature importances for better visualization\n",
    "feat_importances = pd.Series(model.feature_importances_, index=X.columns)\n",
    "feat_importances.nlargest(10).plot(kind='barh')\n",
    "plt.show()"
   ]
  },
  {
   "cell_type": "code",
   "execution_count": null,
   "metadata": {},
   "outputs": [],
   "source": []
  },
  {
   "cell_type": "code",
   "execution_count": null,
   "metadata": {},
   "outputs": [],
   "source": []
  }
 ],
 "metadata": {
  "kernelspec": {
   "display_name": "Python 3",
   "language": "python",
   "name": "python3"
  },
  "language_info": {
   "codemirror_mode": {
    "name": "ipython",
    "version": 3
   },
   "file_extension": ".py",
   "mimetype": "text/x-python",
   "name": "python",
   "nbconvert_exporter": "python",
   "pygments_lexer": "ipython3",
   "version": "3.7.3"
  }
 },
 "nbformat": 4,
 "nbformat_minor": 4
}
